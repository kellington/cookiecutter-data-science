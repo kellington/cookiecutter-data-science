{
 "cells": [
  {
   "cell_type": "markdown",
   "id": "central-rugby",
   "metadata": {},
   "source": [
    "# Exploratory Data Analysis  \n",
    "\n",
    "Automating Exploratory Data Analysis- Part 1  \n",
    "    - https://medium.com/swlh/automating-exploratory-data-analysis-part-1-f5f2b7d548e5  "
   ]
  },
  {
   "cell_type": "code",
   "execution_count": 1,
   "id": "acting-certification",
   "metadata": {},
   "outputs": [],
   "source": [
    "import sweetviz as sv\n",
    "import pandas as pd"
   ]
  },
  {
   "cell_type": "code",
   "execution_count": 3,
   "id": "brief-sailing",
   "metadata": {},
   "outputs": [
    {
     "name": "stdout",
     "output_type": "stream",
     "text": [
      "(2688, 25)\n",
      "(801, 25)\n"
     ]
    }
   ],
   "source": [
    "# random data\n",
    "df_train = pd.read_csv('./data/sales_data_sample2.csv')\n",
    "df_test = pd.read_csv('./data/sales_data_sample2b.csv')\n",
    "print(df_train.shape)\n",
    "print(df_test.shape)"
   ]
  },
  {
   "cell_type": "markdown",
   "id": "reported-rouge",
   "metadata": {},
   "source": [
    "## Create Report"
   ]
  },
  {
   "cell_type": "code",
   "execution_count": 4,
   "id": "consolidated-ghost",
   "metadata": {},
   "outputs": [
    {
     "data": {
      "application/vnd.jupyter.widget-view+json": {
       "model_id": "8ee5ea8889dd468e9cd4b0c832fc034b",
       "version_major": 2,
       "version_minor": 0
      },
      "text/plain": [
       "                                             |          | [  0%]   00:00 -> (? left)"
      ]
     },
     "metadata": {},
     "output_type": "display_data"
    },
    {
     "name": "stdout",
     "output_type": "stream",
     "text": [
      "Report SWEETVIZ_REPORT.html was generated! NOTEBOOK/COLAB USERS: the web browser MAY not pop up, regardless, the report IS saved in your notebook/colab files.\n"
     ]
    }
   ],
   "source": [
    "analyze_report = sv.analyze(df_train)\n",
    "analyze_report.show_html()"
   ]
  },
  {
   "cell_type": "markdown",
   "id": "verified-beach",
   "metadata": {},
   "source": [
    "### Wow!  \n",
    "Opens a new tab - but needs a lot of screen ;-)  "
   ]
  },
  {
   "cell_type": "markdown",
   "id": "ready-jackson",
   "metadata": {},
   "source": [
    "## Compare  \n",
    "- didn't have \"target\" - used QUANTITYORDERED"
   ]
  },
  {
   "cell_type": "code",
   "execution_count": 6,
   "id": "false-value",
   "metadata": {},
   "outputs": [
    {
     "data": {
      "application/vnd.jupyter.widget-view+json": {
       "model_id": "560ed21c8ea24229ba546d42717ac591",
       "version_major": 2,
       "version_minor": 0
      },
      "text/plain": [
       "                                             |          | [  0%]   00:00 -> (? left)"
      ]
     },
     "metadata": {},
     "output_type": "display_data"
    },
    {
     "name": "stdout",
     "output_type": "stream",
     "text": [
      "Report SWEETVIZ_REPORT.html was generated! NOTEBOOK/COLAB USERS: the web browser MAY not pop up, regardless, the report IS saved in your notebook/colab files.\n"
     ]
    }
   ],
   "source": [
    "compare = sv.compare([df_train, \"Training Data\"], [df_test, \"Test Data\"], \"QUANTITYORDERED\")\n",
    "compare.show_html()"
   ]
  },
  {
   "cell_type": "code",
   "execution_count": null,
   "id": "reasonable-mission",
   "metadata": {},
   "outputs": [],
   "source": []
  }
 ],
 "metadata": {
  "kernelspec": {
   "display_name": "Python 3",
   "language": "python",
   "name": "python3"
  },
  "language_info": {
   "codemirror_mode": {
    "name": "ipython",
    "version": 3
   },
   "file_extension": ".py",
   "mimetype": "text/x-python",
   "name": "python",
   "nbconvert_exporter": "python",
   "pygments_lexer": "ipython3",
   "version": "3.8.5"
  }
 },
 "nbformat": 4,
 "nbformat_minor": 5
}
