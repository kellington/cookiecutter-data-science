{
 "cells": [
  {
   "cell_type": "markdown",
   "id": "rural-jumping",
   "metadata": {},
   "source": [
    "# Pandas Pipes\n",
    "\n",
    "Cleaner Data Analysis with Pandas Using Pipes  \n",
    "https://towardsdatascience.com/cleaner-data-analysis-with-pandas-using-pipes-4d73770fbf3c\n",
    "\n",
    "\n",
    "## Great idea for a standard set of utility cleanup functions in a library\n",
    "\n",
    "\n",
    "Data:  \n",
    "https://www.kaggle.com/yoghurtpatil/direct-marketing?select=DirectMarketing.csv  "
   ]
  },
  {
   "cell_type": "code",
   "execution_count": 2,
   "id": "enabling-sally",
   "metadata": {},
   "outputs": [],
   "source": [
    "import numpy as np\n",
    "import pandas as pd"
   ]
  },
  {
   "cell_type": "code",
   "execution_count": 3,
   "id": "noted-copyright",
   "metadata": {},
   "outputs": [
    {
     "data": {
      "text/html": [
       "<div>\n",
       "<style scoped>\n",
       "    .dataframe tbody tr th:only-of-type {\n",
       "        vertical-align: middle;\n",
       "    }\n",
       "\n",
       "    .dataframe tbody tr th {\n",
       "        vertical-align: top;\n",
       "    }\n",
       "\n",
       "    .dataframe thead th {\n",
       "        text-align: right;\n",
       "    }\n",
       "</style>\n",
       "<table border=\"1\" class=\"dataframe\">\n",
       "  <thead>\n",
       "    <tr style=\"text-align: right;\">\n",
       "      <th></th>\n",
       "      <th>Age</th>\n",
       "      <th>Gender</th>\n",
       "      <th>OwnHome</th>\n",
       "      <th>Married</th>\n",
       "      <th>Location</th>\n",
       "      <th>Salary</th>\n",
       "      <th>Children</th>\n",
       "      <th>History</th>\n",
       "      <th>Catalogs</th>\n",
       "      <th>AmountSpent</th>\n",
       "    </tr>\n",
       "  </thead>\n",
       "  <tbody>\n",
       "    <tr>\n",
       "      <th>0</th>\n",
       "      <td>Old</td>\n",
       "      <td>Female</td>\n",
       "      <td>Own</td>\n",
       "      <td>Single</td>\n",
       "      <td>Far</td>\n",
       "      <td>47500</td>\n",
       "      <td>0</td>\n",
       "      <td>High</td>\n",
       "      <td>6</td>\n",
       "      <td>755</td>\n",
       "    </tr>\n",
       "    <tr>\n",
       "      <th>1</th>\n",
       "      <td>Middle</td>\n",
       "      <td>Male</td>\n",
       "      <td>Rent</td>\n",
       "      <td>Single</td>\n",
       "      <td>Close</td>\n",
       "      <td>63600</td>\n",
       "      <td>0</td>\n",
       "      <td>High</td>\n",
       "      <td>6</td>\n",
       "      <td>1318</td>\n",
       "    </tr>\n",
       "    <tr>\n",
       "      <th>2</th>\n",
       "      <td>Young</td>\n",
       "      <td>Female</td>\n",
       "      <td>Rent</td>\n",
       "      <td>Single</td>\n",
       "      <td>Close</td>\n",
       "      <td>13500</td>\n",
       "      <td>0</td>\n",
       "      <td>Low</td>\n",
       "      <td>18</td>\n",
       "      <td>296</td>\n",
       "    </tr>\n",
       "    <tr>\n",
       "      <th>3</th>\n",
       "      <td>Middle</td>\n",
       "      <td>Male</td>\n",
       "      <td>Own</td>\n",
       "      <td>Married</td>\n",
       "      <td>Close</td>\n",
       "      <td>85600</td>\n",
       "      <td>1</td>\n",
       "      <td>High</td>\n",
       "      <td>18</td>\n",
       "      <td>2436</td>\n",
       "    </tr>\n",
       "    <tr>\n",
       "      <th>4</th>\n",
       "      <td>Middle</td>\n",
       "      <td>Female</td>\n",
       "      <td>Own</td>\n",
       "      <td>Single</td>\n",
       "      <td>Close</td>\n",
       "      <td>68400</td>\n",
       "      <td>0</td>\n",
       "      <td>High</td>\n",
       "      <td>12</td>\n",
       "      <td>1304</td>\n",
       "    </tr>\n",
       "  </tbody>\n",
       "</table>\n",
       "</div>"
      ],
      "text/plain": [
       "      Age  Gender OwnHome  Married Location  Salary  Children History  \\\n",
       "0     Old  Female     Own   Single      Far   47500         0    High   \n",
       "1  Middle    Male    Rent   Single    Close   63600         0    High   \n",
       "2   Young  Female    Rent   Single    Close   13500         0     Low   \n",
       "3  Middle    Male     Own  Married    Close   85600         1    High   \n",
       "4  Middle  Female     Own   Single    Close   68400         0    High   \n",
       "\n",
       "   Catalogs  AmountSpent  \n",
       "0         6          755  \n",
       "1         6         1318  \n",
       "2        18          296  \n",
       "3        18         2436  \n",
       "4        12         1304  "
      ]
     },
     "execution_count": 3,
     "metadata": {},
     "output_type": "execute_result"
    }
   ],
   "source": [
    "marketing = pd.read_csv(\"./data/DirectMarketing.csv\")\n",
    "marketing.head()"
   ]
  },
  {
   "cell_type": "markdown",
   "id": "sporting-colombia",
   "metadata": {},
   "source": [
    "## Functions used by PIPE   "
   ]
  },
  {
   "cell_type": "code",
   "execution_count": 5,
   "id": "varying-sleeve",
   "metadata": {},
   "outputs": [],
   "source": [
    "def drop_missing(df):\n",
    "    thresh = len(df) * 0.6\n",
    "    df.dropna(axis=1, thresh=thresh, inplace=True)\n",
    "    return df\n",
    "\n",
    "def remove_outliers(df, column_name):\n",
    "    low = np.quantile(df[column_name], 0.05)\n",
    "    high = np.quantile(df[column_name], 0.95)\n",
    "    return df[df[column_name].between(low, high, inclusive=True)]\n",
    "\n",
    "def to_category(df):\n",
    "    cols = df.select_dtypes(include='object').columns\n",
    "    for col in cols:\n",
    "        ratio = len(df[col].value_counts()) / len(df)\n",
    "        if ratio < 0.05:\n",
    "            df[col] = df[col].astype('category')\n",
    "    return df\n",
    "\n",
    "def copy_df(df):\n",
    "   return df.copy()"
   ]
  },
  {
   "cell_type": "markdown",
   "id": "dressed-farmer",
   "metadata": {},
   "source": [
    "### Pipe to clean a copy of the data  "
   ]
  },
  {
   "cell_type": "code",
   "execution_count": 6,
   "id": "assumed-fetish",
   "metadata": {},
   "outputs": [],
   "source": [
    "marketing_cleaned = (marketing.\n",
    "                       pipe(copy_df).\n",
    "                       pipe(drop_missing).\n",
    "                       pipe(remove_outliers, 'Salary').\n",
    "                       pipe(to_category))"
   ]
  },
  {
   "cell_type": "code",
   "execution_count": 7,
   "id": "primary-canberra",
   "metadata": {},
   "outputs": [
    {
     "name": "stdout",
     "output_type": "stream",
     "text": [
      "(1000, 10)\n"
     ]
    },
    {
     "data": {
      "text/plain": [
       "Age            object\n",
       "Gender         object\n",
       "OwnHome        object\n",
       "Married        object\n",
       "Location       object\n",
       "Salary          int64\n",
       "Children        int64\n",
       "History        object\n",
       "Catalogs        int64\n",
       "AmountSpent     int64\n",
       "dtype: object"
      ]
     },
     "execution_count": 7,
     "metadata": {},
     "output_type": "execute_result"
    }
   ],
   "source": [
    "print(marketing.shape)\n",
    "marketing.dtypes"
   ]
  },
  {
   "cell_type": "code",
   "execution_count": 8,
   "id": "placed-draft",
   "metadata": {},
   "outputs": [
    {
     "name": "stdout",
     "output_type": "stream",
     "text": [
      "(900, 10)\n"
     ]
    },
    {
     "data": {
      "text/plain": [
       "Age            category\n",
       "Gender         category\n",
       "OwnHome        category\n",
       "Married        category\n",
       "Location       category\n",
       "Salary            int64\n",
       "Children          int64\n",
       "History        category\n",
       "Catalogs          int64\n",
       "AmountSpent       int64\n",
       "dtype: object"
      ]
     },
     "execution_count": 8,
     "metadata": {},
     "output_type": "execute_result"
    }
   ],
   "source": [
    "print(marketing_cleaned.shape)\n",
    "marketing_cleaned.dtypes"
   ]
  },
  {
   "cell_type": "code",
   "execution_count": null,
   "id": "simplified-parameter",
   "metadata": {},
   "outputs": [],
   "source": []
  }
 ],
 "metadata": {
  "kernelspec": {
   "display_name": "Python 3",
   "language": "python",
   "name": "python3"
  },
  "language_info": {
   "codemirror_mode": {
    "name": "ipython",
    "version": 3
   },
   "file_extension": ".py",
   "mimetype": "text/x-python",
   "name": "python",
   "nbconvert_exporter": "python",
   "pygments_lexer": "ipython3",
   "version": "3.8.5"
  }
 },
 "nbformat": 4,
 "nbformat_minor": 5
}
